{
  "nbformat": 4,
  "nbformat_minor": 0,
  "metadata": {
    "colab": {
      "name": "jumblesolver.ipynb",
      "provenance": [],
      "authorship_tag": "ABX9TyNhe5qP8t5vRCjgDs+AMt6K",
      "include_colab_link": true
    },
    "kernelspec": {
      "name": "python3",
      "display_name": "Python 3"
    },
    "language_info": {
      "name": "python"
    }
  },
  "cells": [
    {
      "cell_type": "markdown",
      "metadata": {
        "id": "view-in-github",
        "colab_type": "text"
      },
      "source": [
        "<a href=\"https://colab.research.google.com/github/parikannappan/python_learning/blob/master/jumblesolver.ipynb\" target=\"_parent\"><img src=\"https://colab.research.google.com/assets/colab-badge.svg\" alt=\"Open In Colab\"/></a>"
      ]
    },
    {
      "cell_type": "code",
      "source": [
        "pip install pyspellchecker"
      ],
      "metadata": {
        "id": "fLgPxzd-jB5y"
      },
      "execution_count": null,
      "outputs": []
    },
    {
      "cell_type": "code",
      "source": [
        "pip install PyDictionary"
      ],
      "metadata": {
        "id": "YLETc1P3Tefx"
      },
      "execution_count": null,
      "outputs": []
    },
    {
      "cell_type": "code",
      "source": [
        "from itertools import permutations\n",
        "from spellchecker import SpellChecker\n",
        "from PyDictionary import PyDictionary\n",
        "checkspell = SpellChecker()\n",
        "dict = PyDictionary()"
      ],
      "metadata": {
        "id": "GrQjh1SPmj2Y"
      },
      "execution_count": 3,
      "outputs": []
    },
    {
      "cell_type": "code",
      "source": [
        "list1=['c','r','i','c','k','t','e']\n",
        "list2 = []"
      ],
      "metadata": {
        "id": "vyETzp34rtmu"
      },
      "execution_count": 4,
      "outputs": []
    },
    {
      "cell_type": "code",
      "source": [
        "#list(permutations(list1,6))"
      ],
      "metadata": {
        "id": "FCvcc9hB1edl"
      },
      "execution_count": null,
      "outputs": []
    },
    {
      "cell_type": "code",
      "source": [
        "for i in list(permutations(list1,7)):\n",
        "  wrd = \"\".join(i)\n",
        "  #print(wrd)\n",
        "  list2.append(wrd)\n",
        "#print (list2)\n",
        "chks = checkspell.known(list2)\n",
        "wrd1 = list(chks)\n",
        "print('list', wrd1)\n",
        "meaning = dict.meaning(wrd1[0])\n",
        "print('words', chks)\n",
        "print(meaning)\n",
        "\n",
        "  #print(\"\".join(i))"
      ],
      "metadata": {
        "colab": {
          "base_uri": "https://localhost:8080/"
        },
        "id": "1l0T4Kv0yvYR",
        "outputId": "1e8d3fdb-5660-457c-8ec3-8ee244e3cefa"
      },
      "execution_count": 5,
      "outputs": [
        {
          "output_type": "stream",
          "name": "stdout",
          "text": [
            "list ['cricket']\n",
            "words {'cricket'}\n",
            "{'Noun': ['leaping insect; male makes chirping noises by rubbing the forewings together', 'a game played with a ball and bat by two teams of 11 players; teams take turns trying to score runs'], 'Verb': ['play cricket']}\n"
          ]
        }
      ]
    }
  ]
}