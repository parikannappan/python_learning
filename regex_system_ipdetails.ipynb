{
  "nbformat": 4,
  "nbformat_minor": 0,
  "metadata": {
    "colab": {
      "provenance": [],
      "authorship_tag": "ABX9TyNWeGsRjCVeEEaknJjm6kWM",
      "include_colab_link": true
    },
    "kernelspec": {
      "name": "python3",
      "display_name": "Python 3"
    },
    "language_info": {
      "name": "python"
    }
  },
  "cells": [
    {
      "cell_type": "markdown",
      "metadata": {
        "id": "view-in-github",
        "colab_type": "text"
      },
      "source": [
        "<a href=\"https://colab.research.google.com/github/parikannappan/python_learning/blob/master/regex_system_ipdetails.ipynb\" target=\"_parent\"><img src=\"https://colab.research.google.com/assets/colab-badge.svg\" alt=\"Open In Colab\"/></a>"
      ]
    },
    {
      "cell_type": "code",
      "execution_count": 13,
      "metadata": {
        "id": "R-xMDXoU1oeO"
      },
      "outputs": [],
      "source": []
    },
    {
      "cell_type": "markdown",
      "source": [
        "Read data and create list"
      ],
      "metadata": {
        "id": "3BQx7TIM4ACN"
      }
    },
    {
      "cell_type": "markdown",
      "source": [],
      "metadata": {
        "id": "HMtXgv1S3_ta"
      }
    },
    {
      "cell_type": "code",
      "source": [
        "import re\n",
        "s = \"\"\"eth0  Link encap:Ethernet  HWaddr 09:00:12:90:e3:e5  \n",
        "          inet addr:192.168.1.29 Bcast:192.168.1.255  Mask:255.255.255.0\n",
        "          inet6 addr: fe80::a00:27ff:fe70:e3f5/64 Scope:Link\n",
        "          UP BROADCAST RUNNING MULTICAST  MTU:1500  Metric:1\n",
        "          RX packets:54071 errors:1 dropped:0 overruns:0 frame:0\n",
        "          TX packets:48515 errors:0 dropped:0 overruns:0 carrier:0\n",
        "          collisions:0 txqueuelen:1000 \n",
        "          RX bytes:22009423 (20.9 MiB)  TX bytes:25690847 (24.5 MiB)\n",
        "          Interrupt:10 Base address:0xd020\"\"\" \n",
        "          \n",
        "\n",
        "print(s)\n",
        "y3= []\n",
        "y = re.match(r\"^[A-z|0-9| \\s |:]+\", s)\n",
        "y1 = re.match(r\"\\w+\", s)\n",
        "y2 = re.search(\"HWaddr\", s)\n",
        "y3 = re.split(\" \", s)\n",
        "\n",
        "#print(y)\n",
        "#print(y.group())\n",
        "#print(y1.group())\n",
        "print(y2)\n",
        "print(y3)\n"
      ],
      "metadata": {
        "colab": {
          "base_uri": "https://localhost:8080/"
        },
        "id": "z3AJ8-GfjKA_",
        "outputId": "735b6861-7b6d-4d12-bd89-4ef5bccb69ad"
      },
      "execution_count": 14,
      "outputs": [
        {
          "output_type": "stream",
          "name": "stdout",
          "text": [
            "eth0  Link encap:Ethernet  HWaddr 09:00:12:90:e3:e5  \n",
            "          inet addr:192.168.1.29 Bcast:192.168.1.255  Mask:255.255.255.0\n",
            "          inet6 addr: fe80::a00:27ff:fe70:e3f5/64 Scope:Link\n",
            "          UP BROADCAST RUNNING MULTICAST  MTU:1500  Metric:1\n",
            "          RX packets:54071 errors:1 dropped:0 overruns:0 frame:0\n",
            "          TX packets:48515 errors:0 dropped:0 overruns:0 carrier:0\n",
            "          collisions:0 txqueuelen:1000 \n",
            "          RX bytes:22009423 (20.9 MiB)  TX bytes:25690847 (24.5 MiB)\n",
            "          Interrupt:10 Base address:0xd020\n",
            "<re.Match object; span=(27, 33), match='HWaddr'>\n",
            "['eth0', '', 'Link', 'encap:Ethernet', '', 'HWaddr', '09:00:12:90:e3:e5', '', '\\n', '', '', '', '', '', '', '', '', '', 'inet', 'addr:192.168.1.29', 'Bcast:192.168.1.255', '', 'Mask:255.255.255.0\\n', '', '', '', '', '', '', '', '', '', 'inet6', 'addr:', 'fe80::a00:27ff:fe70:e3f5/64', 'Scope:Link\\n', '', '', '', '', '', '', '', '', '', 'UP', 'BROADCAST', 'RUNNING', 'MULTICAST', '', 'MTU:1500', '', 'Metric:1\\n', '', '', '', '', '', '', '', '', '', 'RX', 'packets:54071', 'errors:1', 'dropped:0', 'overruns:0', 'frame:0\\n', '', '', '', '', '', '', '', '', '', 'TX', 'packets:48515', 'errors:0', 'dropped:0', 'overruns:0', 'carrier:0\\n', '', '', '', '', '', '', '', '', '', 'collisions:0', 'txqueuelen:1000', '\\n', '', '', '', '', '', '', '', '', '', 'RX', 'bytes:22009423', '(20.9', 'MiB)', '', 'TX', 'bytes:25690847', '(24.5', 'MiB)\\n', '', '', '', '', '', '', '', '', '', 'Interrupt:10', 'Base', 'address:0xd020']\n"
          ]
        }
      ]
    },
    {
      "cell_type": "markdown",
      "source": [
        "Get indexs of of key words"
      ],
      "metadata": {
        "id": "Dd4eux_v4FuN"
      }
    },
    {
      "cell_type": "code",
      "source": [
        "indx = y3.index('HWaddr')\n",
        "print(indx)\n",
        "rindx = indx + 1\n",
        "print(rindx)\n"
      ],
      "metadata": {
        "id": "UcnEIB-QRLUB"
      },
      "execution_count": null,
      "outputs": []
    },
    {
      "cell_type": "code",
      "source": [
        "indx2 = y3.index('inet')\n",
        "print(indx2)\n",
        "rindx2 = indx2 + 1\n",
        "print(rindx2) "
      ],
      "metadata": {
        "id": "WkjG5dX7SoDv"
      },
      "execution_count": null,
      "outputs": []
    },
    {
      "cell_type": "markdown",
      "source": [
        "Use index and string manuplation "
      ],
      "metadata": {
        "id": "B1dc_5eg4rnc"
      }
    },
    {
      "cell_type": "code",
      "source": [
        "from posixpath import split\n",
        "#print(y3[6])\n",
        "mac1 = y3[6]\n",
        "print(mac1)\n",
        "ipdressx = y3[19]\n",
        "print(ipdressx)\n",
        "ipdressl = ipdressx.split(\":\",1) #extract ip details \n",
        "print(ipdressl)\n",
        "ipdress1 = ipdressl[1]\n",
        "print(ipdress1)\n"
      ],
      "metadata": {
        "colab": {
          "base_uri": "https://localhost:8080/"
        },
        "id": "2Qh-eD7uS9uR",
        "outputId": "addd8537-7c81-4bbb-efe1-ea853650292f"
      },
      "execution_count": 17,
      "outputs": [
        {
          "output_type": "stream",
          "name": "stdout",
          "text": [
            "09:00:12:90:e3:e5\n",
            "addr:192.168.1.29\n",
            "['addr', '192.168.1.29']\n",
            "192.168.1.29\n"
          ]
        }
      ]
    },
    {
      "cell_type": "code",
      "source": [],
      "metadata": {
        "id": "2wPtOAqb2Qs6"
      },
      "execution_count": 17,
      "outputs": []
    },
    {
      "cell_type": "markdown",
      "source": [
        "nested dictionary"
      ],
      "metadata": {
        "id": "FSa5kRE-y4ez"
      }
    },
    {
      "cell_type": "code",
      "source": [],
      "metadata": {
        "id": "_LQb2XfI2ZZ1"
      },
      "execution_count": 17,
      "outputs": []
    },
    {
      "cell_type": "code",
      "source": [
        "inndict = {'mac':mac1,'ipdress':ipdress1}\n",
        "res= {y3[0]:inndict}\n",
        "print(res)"
      ],
      "metadata": {
        "colab": {
          "base_uri": "https://localhost:8080/"
        },
        "id": "V7qa2tN7ugGB",
        "outputId": "2e7703f0-5039-47ad-ff3e-cbb976775208"
      },
      "execution_count": 18,
      "outputs": [
        {
          "output_type": "stream",
          "name": "stdout",
          "text": [
            "{'eth0': {'mac': '09:00:12:90:e3:e5', 'ipdress': '192.168.1.29'}}\n"
          ]
        }
      ]
    }
  ]
}