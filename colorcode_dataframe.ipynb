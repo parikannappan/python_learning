{
  "nbformat": 4,
  "nbformat_minor": 0,
  "metadata": {
    "colab": {
      "name": "colorcode_dataframe.ipynb",
      "provenance": [],
      "collapsed_sections": [],
      "authorship_tag": "ABX9TyPOS5Qn1R47FHx3GnkH3PxA",
      "include_colab_link": true
    },
    "kernelspec": {
      "name": "python3",
      "display_name": "Python 3"
    }
  },
  "cells": [
    {
      "cell_type": "markdown",
      "metadata": {
        "id": "view-in-github",
        "colab_type": "text"
      },
      "source": [
        "<a href=\"https://colab.research.google.com/github/parikannappan/python_learning/blob/master/colorcode_dataframe.ipynb\" target=\"_parent\"><img src=\"https://colab.research.google.com/assets/colab-badge.svg\" alt=\"Open In Colab\"/></a>"
      ]
    },
    {
      "cell_type": "code",
      "metadata": {
        "id": "BuBk0YHUOGfH",
        "colab_type": "code",
        "colab": {}
      },
      "source": [
        "import pandas as pd"
      ],
      "execution_count": null,
      "outputs": []
    },
    {
      "cell_type": "code",
      "metadata": {
        "id": "slT1i1zQOrbL",
        "colab_type": "code",
        "colab": {
          "base_uri": "https://localhost:8080/"
        },
        "outputId": "7921139e-bff5-4516-ba80-0d761aafd1a8"
      },
      "source": [
        "df2"
      ],
      "execution_count": null,
      "outputs": [
        {
          "output_type": "execute_result",
          "data": {
            "text/html": [
              "<div>\n",
              "<style scoped>\n",
              "    .dataframe tbody tr th:only-of-type {\n",
              "        vertical-align: middle;\n",
              "    }\n",
              "\n",
              "    .dataframe tbody tr th {\n",
              "        vertical-align: top;\n",
              "    }\n",
              "\n",
              "    .dataframe thead th {\n",
              "        text-align: right;\n",
              "    }\n",
              "</style>\n",
              "<table border=\"1\" class=\"dataframe\">\n",
              "  <thead>\n",
              "    <tr style=\"text-align: right;\">\n",
              "      <th></th>\n",
              "      <th>A</th>\n",
              "      <th>B</th>\n",
              "    </tr>\n",
              "  </thead>\n",
              "  <tbody>\n",
              "    <tr>\n",
              "      <th>0</th>\n",
              "      <td>1</td>\n",
              "      <td>2</td>\n",
              "    </tr>\n",
              "    <tr>\n",
              "      <th>1</th>\n",
              "      <td>2</td>\n",
              "      <td>3</td>\n",
              "    </tr>\n",
              "    <tr>\n",
              "      <th>2</th>\n",
              "      <td>-3</td>\n",
              "      <td>4</td>\n",
              "    </tr>\n",
              "    <tr>\n",
              "      <th>3</th>\n",
              "      <td>3</td>\n",
              "      <td>-4</td>\n",
              "    </tr>\n",
              "    <tr>\n",
              "      <th>4</th>\n",
              "      <td>8</td>\n",
              "      <td>-6</td>\n",
              "    </tr>\n",
              "    <tr>\n",
              "      <th>5</th>\n",
              "      <td>9</td>\n",
              "      <td>7</td>\n",
              "    </tr>\n",
              "  </tbody>\n",
              "</table>\n",
              "</div>"
            ],
            "text/plain": [
              "   A  B\n",
              "0  1  2\n",
              "1  2  3\n",
              "2 -3  4\n",
              "3  3 -4\n",
              "4  8 -6\n",
              "5  9  7"
            ]
          },
          "metadata": {
            "tags": []
          },
          "execution_count": 5
        }
      ]
    },
    {
      "cell_type": "code",
      "metadata": {
        "id": "gopk5wbAN9_p",
        "colab_type": "code",
        "colab": {}
      },
      "source": [
        " df2=pd.DataFrame({'A':[1,2,-3,3,8,9],'B':[2,3,4,-4,-6,7]})"
      ],
      "execution_count": null,
      "outputs": []
    },
    {
      "cell_type": "code",
      "metadata": {
        "id": "bQl8YGHYN7m3",
        "colab_type": "code",
        "colab": {}
      },
      "source": [
        "def color_negative_red(val):\n",
        "  color = 'red' if val < 0  else 'blue'\n",
        "  return 'color: %s' % color\n"
      ],
      "execution_count": 18,
      "outputs": []
    },
    {
      "cell_type": "code",
      "metadata": {
        "id": "vlLsazjeOX4A",
        "colab_type": "code",
        "colab": {}
      },
      "source": [
        "mdf2 = df2.style.applymap(color_negative_red)"
      ],
      "execution_count": 19,
      "outputs": []
    },
    {
      "cell_type": "code",
      "metadata": {
        "id": "mc7gy4RsQgPe",
        "colab_type": "code",
        "colab": {
          "base_uri": "https://localhost:8080/",
          "height": 158
        },
        "outputId": "1355b884-a250-4bec-e0c1-5552f121a36f"
      },
      "source": [
        "mdf2"
      ],
      "execution_count": 20,
      "outputs": [
        {
          "output_type": "execute_result",
          "data": {
            "text/html": [
              "<style  type=\"text/css\" >\n",
              "    #T_a5ff6432_f73f_11ea_aeb3_0242ac1c0002row0_col0 {\n",
              "            color:  blue;\n",
              "        }    #T_a5ff6432_f73f_11ea_aeb3_0242ac1c0002row0_col1 {\n",
              "            color:  blue;\n",
              "        }    #T_a5ff6432_f73f_11ea_aeb3_0242ac1c0002row1_col0 {\n",
              "            color:  blue;\n",
              "        }    #T_a5ff6432_f73f_11ea_aeb3_0242ac1c0002row1_col1 {\n",
              "            color:  blue;\n",
              "        }    #T_a5ff6432_f73f_11ea_aeb3_0242ac1c0002row2_col0 {\n",
              "            color:  red;\n",
              "        }    #T_a5ff6432_f73f_11ea_aeb3_0242ac1c0002row2_col1 {\n",
              "            color:  blue;\n",
              "        }    #T_a5ff6432_f73f_11ea_aeb3_0242ac1c0002row3_col0 {\n",
              "            color:  blue;\n",
              "        }    #T_a5ff6432_f73f_11ea_aeb3_0242ac1c0002row3_col1 {\n",
              "            color:  red;\n",
              "        }    #T_a5ff6432_f73f_11ea_aeb3_0242ac1c0002row4_col0 {\n",
              "            color:  blue;\n",
              "        }    #T_a5ff6432_f73f_11ea_aeb3_0242ac1c0002row4_col1 {\n",
              "            color:  red;\n",
              "        }    #T_a5ff6432_f73f_11ea_aeb3_0242ac1c0002row5_col0 {\n",
              "            color:  blue;\n",
              "        }    #T_a5ff6432_f73f_11ea_aeb3_0242ac1c0002row5_col1 {\n",
              "            color:  blue;\n",
              "        }</style><table id=\"T_a5ff6432_f73f_11ea_aeb3_0242ac1c0002\" ><thead>    <tr>        <th class=\"blank level0\" ></th>        <th class=\"col_heading level0 col0\" >A</th>        <th class=\"col_heading level0 col1\" >B</th>    </tr></thead><tbody>\n",
              "                <tr>\n",
              "                        <th id=\"T_a5ff6432_f73f_11ea_aeb3_0242ac1c0002level0_row0\" class=\"row_heading level0 row0\" >0</th>\n",
              "                        <td id=\"T_a5ff6432_f73f_11ea_aeb3_0242ac1c0002row0_col0\" class=\"data row0 col0\" >1</td>\n",
              "                        <td id=\"T_a5ff6432_f73f_11ea_aeb3_0242ac1c0002row0_col1\" class=\"data row0 col1\" >2</td>\n",
              "            </tr>\n",
              "            <tr>\n",
              "                        <th id=\"T_a5ff6432_f73f_11ea_aeb3_0242ac1c0002level0_row1\" class=\"row_heading level0 row1\" >1</th>\n",
              "                        <td id=\"T_a5ff6432_f73f_11ea_aeb3_0242ac1c0002row1_col0\" class=\"data row1 col0\" >2</td>\n",
              "                        <td id=\"T_a5ff6432_f73f_11ea_aeb3_0242ac1c0002row1_col1\" class=\"data row1 col1\" >3</td>\n",
              "            </tr>\n",
              "            <tr>\n",
              "                        <th id=\"T_a5ff6432_f73f_11ea_aeb3_0242ac1c0002level0_row2\" class=\"row_heading level0 row2\" >2</th>\n",
              "                        <td id=\"T_a5ff6432_f73f_11ea_aeb3_0242ac1c0002row2_col0\" class=\"data row2 col0\" >-3</td>\n",
              "                        <td id=\"T_a5ff6432_f73f_11ea_aeb3_0242ac1c0002row2_col1\" class=\"data row2 col1\" >4</td>\n",
              "            </tr>\n",
              "            <tr>\n",
              "                        <th id=\"T_a5ff6432_f73f_11ea_aeb3_0242ac1c0002level0_row3\" class=\"row_heading level0 row3\" >3</th>\n",
              "                        <td id=\"T_a5ff6432_f73f_11ea_aeb3_0242ac1c0002row3_col0\" class=\"data row3 col0\" >3</td>\n",
              "                        <td id=\"T_a5ff6432_f73f_11ea_aeb3_0242ac1c0002row3_col1\" class=\"data row3 col1\" >-4</td>\n",
              "            </tr>\n",
              "            <tr>\n",
              "                        <th id=\"T_a5ff6432_f73f_11ea_aeb3_0242ac1c0002level0_row4\" class=\"row_heading level0 row4\" >4</th>\n",
              "                        <td id=\"T_a5ff6432_f73f_11ea_aeb3_0242ac1c0002row4_col0\" class=\"data row4 col0\" >8</td>\n",
              "                        <td id=\"T_a5ff6432_f73f_11ea_aeb3_0242ac1c0002row4_col1\" class=\"data row4 col1\" >-6</td>\n",
              "            </tr>\n",
              "            <tr>\n",
              "                        <th id=\"T_a5ff6432_f73f_11ea_aeb3_0242ac1c0002level0_row5\" class=\"row_heading level0 row5\" >5</th>\n",
              "                        <td id=\"T_a5ff6432_f73f_11ea_aeb3_0242ac1c0002row5_col0\" class=\"data row5 col0\" >9</td>\n",
              "                        <td id=\"T_a5ff6432_f73f_11ea_aeb3_0242ac1c0002row5_col1\" class=\"data row5 col1\" >7</td>\n",
              "            </tr>\n",
              "    </tbody></table>"
            ],
            "text/plain": [
              "<pandas.io.formats.style.Styler at 0x7f3d05b14160>"
            ]
          },
          "metadata": {
            "tags": []
          },
          "execution_count": 20
        }
      ]
    },
    {
      "cell_type": "code",
      "metadata": {
        "id": "E6eyXwt_WNfV",
        "colab_type": "code",
        "colab": {}
      },
      "source": [
        "def color_negative_bg(val): \n",
        "  color = 'red' if val < 0 else 'white'\n",
        "  return 'background-color: %s' % color"
      ],
      "execution_count": 43,
      "outputs": []
    },
    {
      "cell_type": "code",
      "metadata": {
        "id": "W26mAbvLWK3f",
        "colab_type": "code",
        "colab": {
          "base_uri": "https://localhost:8080/",
          "height": 158
        },
        "outputId": "dcb01ab1-2c24-4327-c5a0-e62d877e40c9"
      },
      "source": [
        "bgdf2 = df2.style.applymap(color_negative_bg)\n",
        "bgdf2 \n"
      ],
      "execution_count": 44,
      "outputs": [
        {
          "output_type": "execute_result",
          "data": {
            "text/html": [
              "<style  type=\"text/css\" >\n",
              "    #T_4e2eb57a_f742_11ea_aeb3_0242ac1c0002row0_col0 {\n",
              "            background-color:  white;\n",
              "        }    #T_4e2eb57a_f742_11ea_aeb3_0242ac1c0002row0_col1 {\n",
              "            background-color:  white;\n",
              "        }    #T_4e2eb57a_f742_11ea_aeb3_0242ac1c0002row1_col0 {\n",
              "            background-color:  white;\n",
              "        }    #T_4e2eb57a_f742_11ea_aeb3_0242ac1c0002row1_col1 {\n",
              "            background-color:  white;\n",
              "        }    #T_4e2eb57a_f742_11ea_aeb3_0242ac1c0002row2_col0 {\n",
              "            background-color:  red;\n",
              "        }    #T_4e2eb57a_f742_11ea_aeb3_0242ac1c0002row2_col1 {\n",
              "            background-color:  white;\n",
              "        }    #T_4e2eb57a_f742_11ea_aeb3_0242ac1c0002row3_col0 {\n",
              "            background-color:  white;\n",
              "        }    #T_4e2eb57a_f742_11ea_aeb3_0242ac1c0002row3_col1 {\n",
              "            background-color:  red;\n",
              "        }    #T_4e2eb57a_f742_11ea_aeb3_0242ac1c0002row4_col0 {\n",
              "            background-color:  white;\n",
              "        }    #T_4e2eb57a_f742_11ea_aeb3_0242ac1c0002row4_col1 {\n",
              "            background-color:  red;\n",
              "        }    #T_4e2eb57a_f742_11ea_aeb3_0242ac1c0002row5_col0 {\n",
              "            background-color:  white;\n",
              "        }    #T_4e2eb57a_f742_11ea_aeb3_0242ac1c0002row5_col1 {\n",
              "            background-color:  white;\n",
              "        }</style><table id=\"T_4e2eb57a_f742_11ea_aeb3_0242ac1c0002\" ><thead>    <tr>        <th class=\"blank level0\" ></th>        <th class=\"col_heading level0 col0\" >A</th>        <th class=\"col_heading level0 col1\" >B</th>    </tr></thead><tbody>\n",
              "                <tr>\n",
              "                        <th id=\"T_4e2eb57a_f742_11ea_aeb3_0242ac1c0002level0_row0\" class=\"row_heading level0 row0\" >0</th>\n",
              "                        <td id=\"T_4e2eb57a_f742_11ea_aeb3_0242ac1c0002row0_col0\" class=\"data row0 col0\" >1</td>\n",
              "                        <td id=\"T_4e2eb57a_f742_11ea_aeb3_0242ac1c0002row0_col1\" class=\"data row0 col1\" >2</td>\n",
              "            </tr>\n",
              "            <tr>\n",
              "                        <th id=\"T_4e2eb57a_f742_11ea_aeb3_0242ac1c0002level0_row1\" class=\"row_heading level0 row1\" >1</th>\n",
              "                        <td id=\"T_4e2eb57a_f742_11ea_aeb3_0242ac1c0002row1_col0\" class=\"data row1 col0\" >2</td>\n",
              "                        <td id=\"T_4e2eb57a_f742_11ea_aeb3_0242ac1c0002row1_col1\" class=\"data row1 col1\" >3</td>\n",
              "            </tr>\n",
              "            <tr>\n",
              "                        <th id=\"T_4e2eb57a_f742_11ea_aeb3_0242ac1c0002level0_row2\" class=\"row_heading level0 row2\" >2</th>\n",
              "                        <td id=\"T_4e2eb57a_f742_11ea_aeb3_0242ac1c0002row2_col0\" class=\"data row2 col0\" >-3</td>\n",
              "                        <td id=\"T_4e2eb57a_f742_11ea_aeb3_0242ac1c0002row2_col1\" class=\"data row2 col1\" >4</td>\n",
              "            </tr>\n",
              "            <tr>\n",
              "                        <th id=\"T_4e2eb57a_f742_11ea_aeb3_0242ac1c0002level0_row3\" class=\"row_heading level0 row3\" >3</th>\n",
              "                        <td id=\"T_4e2eb57a_f742_11ea_aeb3_0242ac1c0002row3_col0\" class=\"data row3 col0\" >3</td>\n",
              "                        <td id=\"T_4e2eb57a_f742_11ea_aeb3_0242ac1c0002row3_col1\" class=\"data row3 col1\" >-4</td>\n",
              "            </tr>\n",
              "            <tr>\n",
              "                        <th id=\"T_4e2eb57a_f742_11ea_aeb3_0242ac1c0002level0_row4\" class=\"row_heading level0 row4\" >4</th>\n",
              "                        <td id=\"T_4e2eb57a_f742_11ea_aeb3_0242ac1c0002row4_col0\" class=\"data row4 col0\" >8</td>\n",
              "                        <td id=\"T_4e2eb57a_f742_11ea_aeb3_0242ac1c0002row4_col1\" class=\"data row4 col1\" >-6</td>\n",
              "            </tr>\n",
              "            <tr>\n",
              "                        <th id=\"T_4e2eb57a_f742_11ea_aeb3_0242ac1c0002level0_row5\" class=\"row_heading level0 row5\" >5</th>\n",
              "                        <td id=\"T_4e2eb57a_f742_11ea_aeb3_0242ac1c0002row5_col0\" class=\"data row5 col0\" >9</td>\n",
              "                        <td id=\"T_4e2eb57a_f742_11ea_aeb3_0242ac1c0002row5_col1\" class=\"data row5 col1\" >7</td>\n",
              "            </tr>\n",
              "    </tbody></table>"
            ],
            "text/plain": [
              "<pandas.io.formats.style.Styler at 0x7f3d05acc3c8>"
            ]
          },
          "metadata": {
            "tags": []
          },
          "execution_count": 44
        }
      ]
    }
  ]
}