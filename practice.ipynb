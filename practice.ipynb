{
  "nbformat": 4,
  "nbformat_minor": 0,
  "metadata": {
    "colab": {
      "name": "practice.ipynb",
      "provenance": [],
      "collapsed_sections": []
    },
    "kernelspec": {
      "name": "python3",
      "display_name": "Python 3"
    }
  },
  "cells": [
    {
      "cell_type": "code",
      "metadata": {
        "id": "45J6P6ZfDmG8",
        "colab_type": "code",
        "colab": {
          "base_uri": "https://localhost:8080/",
          "height": 34
        },
        "outputId": "367b3f7d-bd23-4ee8-fcd3-8e88255ac5f3"
      },
      "source": [
        "from collections import Counter\n",
        "my_list = [\"India\",\"India\",\"Australia\",\"Uk\",\"USA\",\"USA\",\"USA\"]\n",
        "cnt = {}\n",
        "cnt = Counter(my_list)\n",
        "print(cnt)\n"
      ],
      "execution_count": null,
      "outputs": [
        {
          "output_type": "stream",
          "text": [
            "Counter({'USA': 3, 'India': 2, 'Australia': 1, 'Uk': 1})\n"
          ],
          "name": "stdout"
        }
      ]
    },
    {
      "cell_type": "markdown",
      "metadata": {
        "id": "fe8c3sJ-gY9z",
        "colab_type": "text"
      },
      "source": [
        "# 3 largest elements in group"
      ]
    },
    {
      "cell_type": "code",
      "metadata": {
        "id": "EAp2w660gPVY",
        "colab_type": "code",
        "colab": {
          "base_uri": "https://localhost:8080/",
          "height": 34
        },
        "outputId": "00004751-d632-445e-f552-b417e250aac0"
      },
      "source": [
        "a1 = [3, 4, 7, 8, 9, 2, 1, 5]\n",
        "a2 = sorted(a1, reverse=True)\n",
        "print(a2[:3])\n"
      ],
      "execution_count": 15,
      "outputs": [
        {
          "output_type": "stream",
          "text": [
            "[9, 8, 7]\n"
          ],
          "name": "stdout"
        }
      ]
    }
  ]
}